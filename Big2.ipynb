{
 "cells": [
  {
   "cell_type": "code",
   "execution_count": 50,
   "metadata": {},
   "outputs": [
    {
     "name": "stdout",
     "output_type": "stream",
     "text": [
      "[144.  97.  80.] [64. 17.]\n"
     ]
    }
   ],
   "source": [
    "import numpy as np\n",
    "\n",
    "def Big2(money = 0.1, **kwargs):\n",
    "\tfor player in kwargs.keys():\n",
    "\t\tct = kwargs.pop(player).values\n",
    "\t\tfor kwargs.valeus():\n",
    "\n",
    "\n",
    "Big2(kaho=113, Danny=160, Anson=257, Fai=177)\n",
    "\n"
   ]
  },
  {
   "cell_type": "code",
   "execution_count": 59,
   "metadata": {},
   "outputs": [
    {
     "ename": "AttributeError",
     "evalue": "'dict' object has no attribute 'value'",
     "output_type": "error",
     "traceback": [
      "\u001b[0;31m---------------------------------------------------------------------------\u001b[0m",
      "\u001b[0;31mAttributeError\u001b[0m                            Traceback (most recent call last)",
      "\u001b[1;32m/Users/ktse0007/my_modules/krepo1/Big2.ipynb Cell 2\u001b[0m in \u001b[0;36m<cell line: 3>\u001b[0;34m()\u001b[0m\n\u001b[1;32m      <a href='vscode-notebook-cell:/Users/ktse0007/my_modules/krepo1/Big2.ipynb#W1sZmlsZQ%3D%3D?line=0'>1</a>\u001b[0m test \u001b[39m=\u001b[39m {\u001b[39m'\u001b[39m\u001b[39mb\u001b[39m\u001b[39m'\u001b[39m:\u001b[39m1\u001b[39m, \u001b[39m'\u001b[39m\u001b[39ma\u001b[39m\u001b[39m'\u001b[39m:\u001b[39m4\u001b[39m, \u001b[39m'\u001b[39m\u001b[39mc\u001b[39m\u001b[39m'\u001b[39m:\u001b[39m2\u001b[39m, \u001b[39m'\u001b[39m\u001b[39md\u001b[39m\u001b[39m'\u001b[39m:\u001b[39m3\u001b[39m}\n\u001b[1;32m      <a href='vscode-notebook-cell:/Users/ktse0007/my_modules/krepo1/Big2.ipynb#W1sZmlsZQ%3D%3D?line=1'>2</a>\u001b[0m test2 \u001b[39m=\u001b[39m {\u001b[39m'\u001b[39m\u001b[39me\u001b[39m\u001b[39m'\u001b[39m:\u001b[39m5\u001b[39m}\n\u001b[0;32m----> <a href='vscode-notebook-cell:/Users/ktse0007/my_modules/krepo1/Big2.ipynb#W1sZmlsZQ%3D%3D?line=2'>3</a>\u001b[0m \u001b[39mprint\u001b[39m(test2\u001b[39m.\u001b[39;49mvalue)\n",
      "\u001b[0;31mAttributeError\u001b[0m: 'dict' object has no attribute 'value'"
     ]
    }
   ],
   "source": [
    "test = {'b':1, 'a':4, 'c':2, 'd':3}\n",
    "test2 = {'e':5}\n",
    "print(test2.value)"
   ]
  }
 ],
 "metadata": {
  "kernelspec": {
   "display_name": "Python 3.10.4 ('libexec')",
   "language": "python",
   "name": "python3"
  },
  "language_info": {
   "codemirror_mode": {
    "name": "ipython",
    "version": 3
   },
   "file_extension": ".py",
   "mimetype": "text/x-python",
   "name": "python",
   "nbconvert_exporter": "python",
   "pygments_lexer": "ipython3",
   "version": "3.10.4"
  },
  "orig_nbformat": 4,
  "vscode": {
   "interpreter": {
    "hash": "cc8d9c3f6ffae122a40a4375eeaa35c3c8cda466083bb7dad4f1da814c68f00a"
   }
  }
 },
 "nbformat": 4,
 "nbformat_minor": 2
}
